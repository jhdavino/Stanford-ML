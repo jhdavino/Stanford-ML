{
 "cells": [
  {
   "cell_type": "code",
   "execution_count": 1,
   "metadata": {},
   "outputs": [
    {
     "data": {
      "text/plain": [
       "0.5833333333333333"
      ]
     },
     "execution_count": 1,
     "metadata": {},
     "output_type": "execute_result"
    }
   ],
   "source": [
    "x = [1, 2, 3]\n",
    "y = [1, 2, 3]\n",
    "theta_1 = 0\n",
    "theta_2 = 0.5\n",
    "\n",
    "def Squared_error(x, y, theta1, theta2):\n",
    "    hipotesys = [theta1 + theta2*k for k in x]\n",
    "    #print (hipotesys)\n",
    "    errors = 0.0\n",
    "    for i in range(len(x)):\n",
    "        errors += (hipotesys[i] - y[i])**2\n",
    "    \n",
    "    return (1/(2*len(x)))*errors\n",
    "\n",
    "Squared_error(x, y, theta_1, theta_2)"
   ]
  },
  {
   "cell_type": "code",
   "execution_count": null,
   "metadata": {},
   "outputs": [],
   "source": []
  }
 ],
 "metadata": {
  "kernelspec": {
   "display_name": "Python 3",
   "language": "python",
   "name": "python3"
  },
  "language_info": {
   "codemirror_mode": {
    "name": "ipython",
    "version": 3
   },
   "file_extension": ".py",
   "mimetype": "text/x-python",
   "name": "python",
   "nbconvert_exporter": "python",
   "pygments_lexer": "ipython3",
   "version": "3.6.7"
  }
 },
 "nbformat": 4,
 "nbformat_minor": 2
}

{
 "cells": [
  {
   "cell_type": "code",
   "execution_count": 18,
   "metadata": {},
   "outputs": [],
   "source": [
    "import numpy as np \n",
    "from numpy.linalg import pinv"
   ]
  },
  {
   "cell_type": "code",
   "execution_count": 19,
   "metadata": {},
   "outputs": [],
   "source": [
    "x1 = [6.5, 7, 6.9, 10, 3, 2, 6.2, 5.9, 7.3]\n",
    "y = (0, 1, 0, 1, 0, 0, 0, 0, 1)\n",
    "x0 = np.ones(len(x1),).tolist()\n",
    "x = np.matrix([x0, x1])"
   ]
  },
  {
   "cell_type": "code",
   "execution_count": 20,
   "metadata": {},
   "outputs": [],
   "source": [
    "x = np.transpose(x)\n",
    "y = np.transpose(np.matrix(y))"
   ]
  },
  {
   "cell_type": "code",
   "execution_count": 21,
   "metadata": {},
   "outputs": [],
   "source": [
    "def train(x, y):\n",
    "    theta = np.transpose(np.matrix(np.ones(len(y))))\n",
    "    return np.dot(pinv(np.matmul(np.transpose(x), x)), np.matmul(np.transpose(x), y)) "
   ]
  },
  {
   "cell_type": "code",
   "execution_count": 22,
   "metadata": {},
   "outputs": [
    {
     "name": "stdout",
     "output_type": "stream",
     "text": [
      "[[-0.48797695]\n",
      " [ 0.13488672]]\n"
     ]
    }
   ],
   "source": [
    "theta = train(x,y)\n",
    "print(theta)"
   ]
  },
  {
   "cell_type": "code",
   "execution_count": 23,
   "metadata": {},
   "outputs": [],
   "source": [
    "def predict(x, theta, threshold): # i dont know if its right\n",
    "    h = [1/(1+v) for v in np.exp(-np.matmul(x,theta))]\n",
    "    hypotesis = []\n",
    "    for v in h:\n",
    "        if(v > threshold):\n",
    "            hypotesis.append(1)\n",
    "        else:\n",
    "            hypotesis.append(0)\n",
    "    return hypotesis"
   ]
  },
  {
   "cell_type": "code",
   "execution_count": 24,
   "metadata": {},
   "outputs": [
    {
     "data": {
      "text/plain": [
       "[0, 1, 1, 1, 0, 0, 0, 0, 1]"
      ]
     },
     "execution_count": 24,
     "metadata": {},
     "output_type": "execute_result"
    }
   ],
   "source": [
    "predict(x, theta, 0.6) "
   ]
  },
  {
   "cell_type": "code",
   "execution_count": 25,
   "metadata": {},
   "outputs": [],
   "source": [
    "def predict_cross_entropy(x, y, theta):\n",
    "    h = [1/(1+v) for v in np.exp(-np.matmul(x,theta))]\n",
    "    errors = []\n",
    "    for i in range(0,len(x)):\n",
    "        if(y[i][0] == 1):\n",
    "            errors.append(- np.log(h[i][0]))\n",
    "        elif(y[i][0] == 0):\n",
    "            errors.append(-np.log(1 - h[i][0]))\n",
    "    return errors"
   ]
  },
  {
   "cell_type": "code",
   "execution_count": 26,
   "metadata": {},
   "outputs": [
    {
     "data": {
      "text/plain": [
       "[matrix([[0.90631714]]),\n",
       " matrix([[0.49082779]]),\n",
       " matrix([[0.93882286]]),\n",
       " matrix([[0.35261658]]),\n",
       " matrix([[0.65235625]]),\n",
       " matrix([[0.58998526]]),\n",
       " matrix([[0.88239742]]),\n",
       " matrix([[0.85887487]]),\n",
       " matrix([[0.47532561]])]"
      ]
     },
     "execution_count": 26,
     "metadata": {},
     "output_type": "execute_result"
    }
   ],
   "source": [
    "error(x, y, theta)"
   ]
  },
  {
   "cell_type": "code",
   "execution_count": 10,
   "metadata": {},
   "outputs": [
    {
     "data": {
      "text/plain": [
       "[0, 1, 0, 1, 0, 0, 0, 0, 1]"
      ]
     },
     "execution_count": 10,
     "metadata": {},
     "output_type": "execute_result"
    }
   ],
   "source": [
    "classify = []\n",
    "threshold = 0.5\n",
    "for e in error(x, y, theta):\n",
    "    if(e < threshold):\n",
    "        classify.append(1)\n",
    "    else: \n",
    "        classify.append(0)\n",
    "classify"
   ]
  },
  {
   "cell_type": "code",
   "execution_count": 29,
   "metadata": {},
   "outputs": [
    {
     "data": {
      "text/plain": [
       "[0, 1, 0]"
      ]
     },
     "execution_count": 29,
     "metadata": {},
     "output_type": "execute_result"
    }
   ],
   "source": [
    "# testing\n",
    "x = [[1, 5.9], [1, 7.1], [1, 6.9]]\n",
    "y = [[0],[1],[0]]\n",
    "\n",
    "classify = []\n",
    "threshold = 0.5\n",
    "for e in error(x, y, theta):\n",
    "    if(e < threshold):\n",
    "        classify.append(1)\n",
    "    else: \n",
    "        classify.append(0)\n",
    "classify"
   ]
  }
 ],
 "metadata": {
  "kernelspec": {
   "display_name": "Python 3",
   "language": "python",
   "name": "python3"
  },
  "language_info": {
   "codemirror_mode": {
    "name": "ipython",
    "version": 3
   },
   "file_extension": ".py",
   "mimetype": "text/x-python",
   "name": "python",
   "nbconvert_exporter": "python",
   "pygments_lexer": "ipython3",
   "version": "3.7.2"
  }
 },
 "nbformat": 4,
 "nbformat_minor": 2
}

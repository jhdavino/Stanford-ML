{
 "cells": [
  {
   "cell_type": "code",
   "execution_count": 9,
   "metadata": {},
   "outputs": [],
   "source": [
    "import numpy as np\n",
    "from numpy.linalg import pinv"
   ]
  },
  {
   "cell_type": "code",
   "execution_count": 2,
   "metadata": {},
   "outputs": [
    {
     "name": "stdout",
     "output_type": "stream",
     "text": [
      "[[1.2]\n",
      " [0.6]\n",
      " [0.3]]\n",
      "[[1. 5. 5.]\n",
      " [1. 5. 4.]\n",
      " [1. 6. 6.]\n",
      " [1. 7. 4.]\n",
      " [1. 7. 3.]\n",
      " [1. 8. 7.]\n",
      " [1. 4. 4.]]\n",
      "[[6.8]\n",
      " [6.5]\n",
      " [7. ]\n",
      " [6.3]\n",
      " [4.4]\n",
      " [7.1]\n",
      " [7.4]]\n"
     ]
    }
   ],
   "source": [
    "#x1 = [1,2,3,4,5,6,7]\n",
    "x1 = [5, 5, 6, 7, 7, 8, 4]\n",
    "x2 = [5,4,6,4,3,7,4]\n",
    "x0 = np.ones(len(x1))\n",
    "#x = [x0, x1, x2]\n",
    "x = np.transpose(np.matrix([x0, x1, x2]))\n",
    "y = np.transpose(np.matrix([6.8, 6.5, 7.0, 6.3, 4.4, 7.1, 7.4]))\n",
    "theta = np.matrix([[1.2], [0.6], [0.3]])\n",
    "alpha = 0.01\n",
    "iterations = 10000\n",
    "\n",
    "print(theta)\n",
    "print(x)\n",
    "print(y)"
   ]
  },
  {
   "cell_type": "code",
   "execution_count": 3,
   "metadata": {},
   "outputs": [],
   "source": [
    "def error(x, y, theta):\n",
    "    return 1/(2*len(y)) * np.sum(np.power(np.subtract(np.matmul(x,theta), y), 2))"
   ]
  },
  {
   "cell_type": "code",
   "execution_count": 4,
   "metadata": {},
   "outputs": [],
   "source": [
    "def predictions(theta, x):\n",
    "    return np.matmul(x,theta)"
   ]
  },
  {
   "cell_type": "code",
   "execution_count": 12,
   "metadata": {},
   "outputs": [],
   "source": [
    "def normalEq(x,y,theta):\n",
    "    return np.dot(pinv(np.matmul(np.transpose(x), x)), np.matmul(np.transpose(x), y))"
   ]
  },
  {
   "cell_type": "code",
   "execution_count": 17,
   "metadata": {},
   "outputs": [
    {
     "name": "stdout",
     "output_type": "stream",
     "text": [
      "[[ 6.41509434]\n",
      " [-0.47358491]\n",
      " [ 0.62075472]]\n",
      "[[7.1509434]]\n",
      "0.08690026954177894\n"
     ]
    }
   ],
   "source": [
    "nextsem = [1 , 5, 5]\n",
    "thetaop = normalEq(x,y,theta)\n",
    "print(thetaop)\n",
    "print(predictions(thetaop, nextsem))\n",
    "print(error(x,y,thetaop))"
   ]
  }
 ],
 "metadata": {
  "kernelspec": {
   "display_name": "Python 3",
   "language": "python",
   "name": "python3"
  },
  "language_info": {
   "codemirror_mode": {
    "name": "ipython",
    "version": 3
   },
   "file_extension": ".py",
   "mimetype": "text/x-python",
   "name": "python",
   "nbconvert_exporter": "python",
   "pygments_lexer": "ipython3",
   "version": "3.7.2"
  }
 },
 "nbformat": 4,
 "nbformat_minor": 2
}

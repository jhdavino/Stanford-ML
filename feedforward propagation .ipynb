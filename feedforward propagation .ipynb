{
 "cells": [
  {
   "cell_type": "code",
   "execution_count": 1,
   "metadata": {},
   "outputs": [],
   "source": [
    "import numpy as np"
   ]
  },
  {
   "cell_type": "code",
   "execution_count": 196,
   "metadata": {},
   "outputs": [],
   "source": [
    "class network:\n",
    "    def __init__(self, x, w, a): # a = architecture of the network \n",
    "        self.x = x               \n",
    "        self.w = w\n",
    "        self.a = a\n",
    "        \n",
    "    def run(self):\n",
    "        #adding bias\n",
    "        self.x.insert(0, np.ones(len(self.x[0])).tolist())\n",
    "        self.w.insert(0, np.ones(len(self.x[0])).tolist())\n",
    "        self.a.insert(0, self.w)\n",
    "        \n",
    "        for l in range(0, len(self.a)): #number of layers\n",
    "                if(l == 0):\n",
    "                    a0 = self.x\n",
    "                else:\n",
    "                    h = self.a[0][l] \n",
    "                    print(\"h \", h)\n",
    "                    a0 = self.activation(z0) + h\n",
    "                    \n",
    "                \n",
    "                print(\"w \", self.w)\n",
    "                print(\"a \", np.squeeze(a0))\n",
    "                z0 = np.dot( np.squeeze(self.a[l]), np.squeeze(a0))\n",
    "                print(z0)\n",
    "        return self.activation(z0)\n",
    "                \n",
    "    def activation(self,v):\n",
    "        return 1/(1+np.exp(-v))"
   ]
  },
  {
   "cell_type": "code",
   "execution_count": 197,
   "metadata": {},
   "outputs": [
    {
     "name": "stdout",
     "output_type": "stream",
     "text": [
      "w  [[1.0], [0.5], [1]]\n",
      "a  [1. 1. 1.]\n",
      "2.5\n"
     ]
    },
    {
     "data": {
      "text/plain": [
       "0.9241418199787566"
      ]
     },
     "execution_count": 197,
     "metadata": {},
     "output_type": "execute_result"
    }
   ],
   "source": [
    "n = network([[1],[1]], [[0.5], [1]], [[]])\n",
    "n.run()"
   ]
  }
 ],
 "metadata": {
  "kernelspec": {
   "display_name": "Python 3",
   "language": "python",
   "name": "python3"
  },
  "language_info": {
   "codemirror_mode": {
    "name": "ipython",
    "version": 3
   },
   "file_extension": ".py",
   "mimetype": "text/x-python",
   "name": "python",
   "nbconvert_exporter": "python",
   "pygments_lexer": "ipython3",
   "version": "3.7.2"
  }
 },
 "nbformat": 4,
 "nbformat_minor": 2
}

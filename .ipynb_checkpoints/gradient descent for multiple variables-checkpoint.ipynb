{
 "cells": [
  {
   "cell_type": "code",
   "execution_count": 1,
   "metadata": {},
   "outputs": [],
   "source": [
    "import numpy as np"
   ]
  },
  {
   "cell_type": "code",
   "execution_count": 2,
   "metadata": {},
   "outputs": [
    {
     "name": "stdout",
     "output_type": "stream",
     "text": [
      "[[1.2]\n",
      " [0.6]\n",
      " [0.3]]\n",
      "[[1. 5. 5.]\n",
      " [1. 5. 4.]\n",
      " [1. 6. 6.]\n",
      " [1. 7. 4.]\n",
      " [1. 7. 3.]\n",
      " [1. 8. 7.]\n",
      " [1. 4. 4.]]\n",
      "[[6.8]\n",
      " [6.5]\n",
      " [7. ]\n",
      " [6.3]\n",
      " [4.4]\n",
      " [7.1]\n",
      " [7.4]]\n"
     ]
    }
   ],
   "source": [
    "#x1 = [1,2,3,4,5,6,7]\n",
    "x1 = [5, 5, 6, 7, 7, 8, 4]\n",
    "x2 = [5,4,6,4,3,7,4]\n",
    "x0 = np.ones(len(x1))\n",
    "#x = [x0, x1, x2]\n",
    "x = np.transpose(np.matrix([x0, x1, x2]))\n",
    "y = np.transpose(np.matrix([6.8, 6.5, 7.0, 6.3, 4.4, 7.1, 7.4]))\n",
    "theta = np.matrix([[1.2], [0.6], [0.3]])\n",
    "alpha = 0.01\n",
    "iterations = 10000\n",
    "\n",
    "print(theta)\n",
    "print(x)\n",
    "print(y)"
   ]
  },
  {
   "cell_type": "code",
   "execution_count": 3,
   "metadata": {},
   "outputs": [],
   "source": [
    "def error(x, y, theta):\n",
    "    return 1/(2*len(y)) * np.sum(np.power(np.subtract(np.matmul(x,theta), y), 2))"
   ]
  },
  {
   "cell_type": "code",
   "execution_count": 4,
   "metadata": {},
   "outputs": [],
   "source": [
    "def predictions(theta, x):\n",
    "    return np.matmul(x,theta)"
   ]
  },
  {
   "cell_type": "code",
   "execution_count": 5,
   "metadata": {},
   "outputs": [
    {
     "data": {
      "text/plain": [
       "matrix([[5.7],\n",
       "        [5.4],\n",
       "        [6.6],\n",
       "        [6.6],\n",
       "        [6.3],\n",
       "        [8.1],\n",
       "        [4.8]])"
      ]
     },
     "execution_count": 5,
     "metadata": {},
     "output_type": "execute_result"
    }
   ],
   "source": [
    "predictions(theta, x)"
   ]
  },
  {
   "cell_type": "code",
   "execution_count": 6,
   "metadata": {},
   "outputs": [],
   "source": [
    "def gradient(x,y,theta, alpha, iterations):\n",
    "    for i in range(iterations):\n",
    "        theta = np.subtract(theta , (np.multiply(\n",
    "                                        (alpha*(1/len(y))),(np.matmul(np.transpose(x),(\n",
    "                                                                    np.subtract(np.matmul(x,theta),\n",
    "                                                                                y))  \n",
    "                                                                     )\n",
    "                                                           )\n",
    "        )\n",
    "                                    )\n",
    "                           )\n",
    "    return theta    "
   ]
  },
  {
   "cell_type": "code",
   "execution_count": 7,
   "metadata": {},
   "outputs": [
    {
     "name": "stdout",
     "output_type": "stream",
     "text": [
      "[[ 6.27676909]\n",
      " [-0.45888644]\n",
      " [ 0.63032403]]\n"
     ]
    }
   ],
   "source": [
    "thetaop = gradient(x,y,theta, alpha, iterations)\n",
    "print(thetaop)"
   ]
  },
  {
   "cell_type": "code",
   "execution_count": 8,
   "metadata": {},
   "outputs": [
    {
     "name": "stdout",
     "output_type": "stream",
     "text": [
      "[[7.13395704]]\n",
      "0.08725318732994763\n"
     ]
    }
   ],
   "source": [
    "nextsem = [1 , 5, 5]\n",
    "print(predictions(thetaop, nextsem))\n",
    "print(error(x,y,thetaop))"
   ]
  }
 ],
 "metadata": {
  "kernelspec": {
   "display_name": "Python 3",
   "language": "python",
   "name": "python3"
  },
  "language_info": {
   "codemirror_mode": {
    "name": "ipython",
    "version": 3
   },
   "file_extension": ".py",
   "mimetype": "text/x-python",
   "name": "python",
   "nbconvert_exporter": "python",
   "pygments_lexer": "ipython3",
   "version": "3.7.2"
  }
 },
 "nbformat": 4,
 "nbformat_minor": 2
}

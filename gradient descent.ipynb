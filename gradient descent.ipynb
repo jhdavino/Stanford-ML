{
 "cells": [
  {
   "cell_type": "code",
   "execution_count": 25,
   "metadata": {},
   "outputs": [
    {
     "name": "stdout",
     "output_type": "stream",
     "text": [
      "theta0  0.522\n",
      "theta1  2.9099999999999997\n",
      "original  [3, 2, 1, 2, 3]\n",
      "prediction  [1.9769999999999999]\n"
     ]
    }
   ],
   "source": [
    "y = [3, 2, 1, 2, 3]\n",
    "x = [1, 2, 3, 4]\n",
    "theta_0 = 0.2\n",
    "theta_1 = 0.3\n",
    "alpha = 0.3\n",
    "\n",
    "def Gradient_descent(x, y, theta1, theta2, alpha):\n",
    "    while(True):\n",
    "        theta0, theta1 = theta1, theta2\n",
    "        theta1, theta2 = update_theta(x,y,theta1,theta2,alpha)\n",
    "        \n",
    "        if((theta1 >= theta0)&(theta2 >= theta1)):\n",
    "            #print(\"theta0 \", theta1)\n",
    "            #print(\"theta1 \", theta2)\n",
    "            return theta1, theta2;\n",
    "        \n",
    "def update_theta(x, y, theta1, theta2, alpha):\n",
    "    sum_1 = 0.0\n",
    "    sum_2 = 0.0\n",
    "    hipotesys = [theta1 + theta2*k for k in x]\n",
    "    for i in range(len(x)):\n",
    "        sum_1 += (hipotesys[i] - y[i])**2 - y[i]\n",
    "        sum_2 += ((hipotesys[i] - y[i])**2 - y[i])*x[i]       \n",
    "    #sum_1 = Squared_error(x,y,theta1,theta2) - sum(y)\n",
    "    #sum_2 = Squared_error(x,y,theta1,theta2) - sum\n",
    "    \n",
    "    theta1 = theta1 - alpha*sum_1\n",
    "    theta2 = theta2 - alpha*sum_2\n",
    "    return theta1, theta2\n",
    "\n",
    "#def Squared_error(x, y, theta1, theta2):\n",
    "#    hipotesys = [theta1 + theta2*k for k in x]\n",
    "#    #print (hipotesys)\n",
    "#    errors = 0.0\n",
    "#    for i in range(len(x)):\n",
    "#        errors += (hipotesys[i] - y[i])**2\n",
    "#    \n",
    "#    return (1/(2*len(x)))*errors\n",
    "\n",
    "def predict(theta1, theta2, x):\n",
    "    hipotesys = [(theta1 + theta2*data) for data in x]\n",
    "    return hipotesys\n",
    "        \n",
    "theta_0, theta_1 = Gradient_descent(x,y,theta_0,theta_1, alpha)\n",
    "print(\"theta0 \", theta_0)\n",
    "print(\"theta1 \", theta_1)\n",
    "prediction = predict(theta_0, theta_1, [0.5])\n",
    "print (\"original \", y)\n",
    "print (\"prediction \", prediction)"
   ]
  }
 ],
 "metadata": {
  "kernelspec": {
   "display_name": "Python 3",
   "language": "python",
   "name": "python3"
  },
  "language_info": {
   "codemirror_mode": {
    "name": "ipython",
    "version": 3
   },
   "file_extension": ".py",
   "mimetype": "text/x-python",
   "name": "python",
   "nbconvert_exporter": "python",
   "pygments_lexer": "ipython3",
   "version": "3.6.7"
  }
 },
 "nbformat": 4,
 "nbformat_minor": 2
}
